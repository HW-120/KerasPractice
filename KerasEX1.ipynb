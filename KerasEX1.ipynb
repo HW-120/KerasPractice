{
 "cells": [
  {
   "cell_type": "code",
   "execution_count": 10,
   "metadata": {},
   "outputs": [],
   "source": [
    "from keras.utils import np_utils\n",
    "from keras.datasets import mnist\n",
    "from keras.models import Sequential\n",
    "from keras.layers import Dense, Activation\n",
    "\n",
    "# 1. 데이터셋 생성하기\n",
    "# mnist를 통해 아마존에서 데이터를 받아와 학습 항목과 테스트 항목을 지정해줌 \n",
    "(x_train, y_train), (x_test, y_test) = mnist.load_data()\n",
    "\n",
    "# 데이터를 float32(4비트)로 변환하고, 60000개로 나누고, 10000개로 나누어줌\n",
    "x_train = x_train.reshape(60000, 784).astype('float32') / 255.0\n",
    "x_test = x_test.reshape(10000, 784).astype('float32') / 255.0\n",
    "y_train = np_utils.to_categorical(y_train)\n",
    "y_test = np_utils.to_categorical(y_test)\n"
   ]
  },
  {
   "cell_type": "code",
   "execution_count": 11,
   "metadata": {},
   "outputs": [
    {
     "name": "stdout",
     "output_type": "stream",
     "text": [
      "Epoch 1/5\n",
      "3750/3750 [==============================] - 4s 1ms/step - loss: 0.5081 - accuracy: 0.8656\n",
      "Epoch 2/5\n",
      "3750/3750 [==============================] - 4s 1ms/step - loss: 0.2886 - accuracy: 0.9182\n",
      "Epoch 3/5\n",
      "3750/3750 [==============================] - 4s 1ms/step - loss: 0.2405 - accuracy: 0.9321\n",
      "Epoch 4/5\n",
      "3750/3750 [==============================] - 4s 1ms/step - loss: 0.2084 - accuracy: 0.9416\n",
      "Epoch 5/5\n",
      "3750/3750 [==============================] - 4s 1ms/step - loss: 0.1859 - accuracy: 0.9469\n",
      "## training loss and acc ##\n",
      "[0.5081236958503723, 0.2885863482952118, 0.24045716226100922, 0.20843735337257385, 0.18592707812786102]\n",
      "[0.8655833601951599, 0.9182000160217285, 0.9321333169937134, 0.9416000247001648, 0.9469333291053772]\n",
      "313/313 [==============================] - 0s 1ms/step - loss: 0.1720 - accuracy: 0.9494\n",
      "## evaluation loss and_metrics ##\n",
      "[0.17197471857070923, 0.949400007724762]\n",
      "## yhat ##\n",
      "[[1.0126335e-04 6.0109318e-07 5.9056346e-04 3.8527315e-03 4.6629432e-07\n",
      "  6.0216615e-05 8.9853058e-09 9.9511999e-01 2.1381640e-05 2.5276095e-04]]\n"
     ]
    }
   ],
   "source": [
    "\n",
    "# 2. 모델 구성하기\n",
    "# Network 2개 생성함\n",
    "model = Sequential()\n",
    "model.add(Dense(units=64, input_dim=28*28, activation='relu'))\n",
    "model.add(Dense(units=10, activation='softmax'))\n",
    "\n",
    "# 3. 모델 학습과정 설정하기\n",
    "model.compile(loss='categorical_crossentropy', optimizer='sgd', metrics=['accuracy'])\n",
    "\n",
    "# 4. 모델 학습시키기\n",
    "# 왜 batch 사이즈를 32로 하지?\n",
    "hist = model.fit(x_train, y_train, epochs=5, batch_size=16)\n",
    "\n",
    "# 5. 학습과정 살펴보기\n",
    "print('## training loss and acc ##')\n",
    "print(hist.history['loss'])\n",
    "print(hist.history['accuracy'])\n",
    "\n",
    "# 6. 모델 평가하기\n",
    "loss_and_metrics = model.evaluate(x_test, y_test, batch_size=32)\n",
    "print('## evaluation loss and_metrics ##')\n",
    "print(loss_and_metrics)\n",
    "\n",
    "# 7. 모델 사용하기\n",
    "xhat = x_test[0:1]\n",
    "yhat = model.predict(xhat)\n",
    "print('## yhat ##')\n",
    "print(yhat)"
   ]
  },
  {
   "cell_type": "code",
   "execution_count": null,
   "metadata": {},
   "outputs": [],
   "source": []
  }
 ],
 "metadata": {
  "kernelspec": {
   "display_name": "Python 3",
   "language": "python",
   "name": "python3"
  },
  "language_info": {
   "codemirror_mode": {
    "name": "ipython",
    "version": 3
   },
   "file_extension": ".py",
   "mimetype": "text/x-python",
   "name": "python",
   "nbconvert_exporter": "python",
   "pygments_lexer": "ipython3",
   "version": "3.7.4"
  }
 },
 "nbformat": 4,
 "nbformat_minor": 2
}
