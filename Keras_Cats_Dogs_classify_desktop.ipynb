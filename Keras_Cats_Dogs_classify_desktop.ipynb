{
 "cells": [
  {
   "cell_type": "code",
   "execution_count": 1,
   "metadata": {
    "colab": {},
    "colab_type": "code",
    "executionInfo": {
     "elapsed": 1281,
     "status": "ok",
     "timestamp": 1594012991404,
     "user": {
      "displayName": "한우",
      "photoUrl": "https://lh3.googleusercontent.com/a-/AOh14Gimf-DWmV0SRGPvFIqwBPav_FepPcd_a3224htKug=s64",
      "userId": "16749474188934901800"
     },
     "user_tz": -540
    },
    "id": "_ETPCPvE293Z"
   },
   "outputs": [],
   "source": [
    "# 이 코드는 아래 사이트에서 코드를 확인하며 진행한 예제\n",
    "# https://colab.research.google.com/github/google/eng-edu/blob/master/ml/pc/exercises/image_classification_part1.ipynb"
   ]
  },
  {
   "cell_type": "code",
   "execution_count": 1,
   "metadata": {
    "colab": {
     "base_uri": "https://localhost:8080/",
     "height": 230
    },
    "colab_type": "code",
    "executionInfo": {
     "elapsed": 2460,
     "status": "ok",
     "timestamp": 1594012995278,
     "user": {
      "displayName": "한우",
      "photoUrl": "https://lh3.googleusercontent.com/a-/AOh14Gimf-DWmV0SRGPvFIqwBPav_FepPcd_a3224htKug=s64",
      "userId": "16749474188934901800"
     },
     "user_tz": -540
    },
    "id": "VJbFlKHb3Lp5",
    "outputId": "16a47076-8156-4671-82b4-1ed454751c3c"
   },
   "outputs": [
    {
     "data": {
      "text/plain": [
       "'!wget --no-check-certificate     https://storage.googleapis.com/mledu-datasets/cats_and_dogs_filtered.zip     -O /content/cats_and_dogs_filtered.zip'"
      ]
     },
     "execution_count": 1,
     "metadata": {},
     "output_type": "execute_result"
    }
   ],
   "source": [
    "# 고양이와 강아지를 분류해보자\n",
    "# wget을 이용해 고양이와 강아지의 zip파일을 불러오자\n",
    "\"\"\"!wget --no-check-certificate \\\n",
    "    https://storage.googleapis.com/mledu-datasets/cats_and_dogs_filtered.zip \\\n",
    "    -O /content/cats_and_dogs_filtered.zip\"\"\""
   ]
  },
  {
   "cell_type": "code",
   "execution_count": 2,
   "metadata": {
    "colab": {},
    "colab_type": "code",
    "executionInfo": {
     "elapsed": 2076,
     "status": "ok",
     "timestamp": 1594013017235,
     "user": {
      "displayName": "한우",
      "photoUrl": "https://lh3.googleusercontent.com/a-/AOh14Gimf-DWmV0SRGPvFIqwBPav_FepPcd_a3224htKug=s64",
      "userId": "16749474188934901800"
     },
     "user_tz": -540
    },
    "id": "gd9cqSmWDQaK"
   },
   "outputs": [],
   "source": [
    "# 불러온 zip파일을 압축을 풀어주자\n",
    "import os\n",
    "import zipfile\n",
    "\n",
    "local_zip = 'cats_and_dogs_filtered.zip'\n",
    "zip_ref = zipfile.ZipFile(local_zip, 'r')\n",
    "zip_ref.extractall('')\n",
    "zip_ref.close()"
   ]
  },
  {
   "cell_type": "code",
   "execution_count": 3,
   "metadata": {
    "colab": {},
    "colab_type": "code",
    "executionInfo": {
     "elapsed": 912,
     "status": "ok",
     "timestamp": 1594013116583,
     "user": {
      "displayName": "한우",
      "photoUrl": "https://lh3.googleusercontent.com/a-/AOh14Gimf-DWmV0SRGPvFIqwBPav_FepPcd_a3224htKug=s64",
      "userId": "16749474188934901800"
     },
     "user_tz": -540
    },
    "id": "yPKGD15pD1bS"
   },
   "outputs": [],
   "source": [
    "# 기본 경로들을 설정해주어 나중에 딥러닝 때 경로를 설정해 준다\n",
    "base_dir = 'cats_and_dogs_filtered'\n",
    "train_dir = os.path.join(base_dir, 'train')\n",
    "validation_dir = os.path.join(base_dir, 'validation')\n",
    "\n",
    "# 훈련할 고양이와 강아지 사진 디렉토리를 각각 설정해 줌\n",
    "train_cats_dir = os.path.join(train_dir, 'cats')\n",
    "train_dogs_dir = os.path.join(train_dir, 'dogs')\n",
    "\n",
    "# 검증에 사용할 사진들을 각각 디렉토리를 설정해 줌\n",
    "validation_cats_dir = os.path.join(validation_dir, 'cats')\n",
    "validation_dogs_dir = os.path.join(validation_dir, 'dogs')\n"
   ]
  },
  {
   "cell_type": "code",
   "execution_count": 4,
   "metadata": {
    "colab": {
     "base_uri": "https://localhost:8080/",
     "height": 52
    },
    "colab_type": "code",
    "executionInfo": {
     "elapsed": 1245,
     "status": "ok",
     "timestamp": 1594013121518,
     "user": {
      "displayName": "한우",
      "photoUrl": "https://lh3.googleusercontent.com/a-/AOh14Gimf-DWmV0SRGPvFIqwBPav_FepPcd_a3224htKug=s64",
      "userId": "16749474188934901800"
     },
     "user_tz": -540
    },
    "id": "vPy2H1NvEhmk",
    "outputId": "eeed3957-6835-430e-d915-c5c5831d7e63"
   },
   "outputs": [
    {
     "name": "stdout",
     "output_type": "stream",
     "text": [
      "1000\n",
      "1000\n"
     ]
    }
   ],
   "source": [
    "# os의 하위 디렉토리를 확인하는 것을 통해 이름들을 넣어준다\n",
    "train_cat_fname = os.listdir(train_cats_dir)\n",
    "train_dog_fname = os.listdir(train_dogs_dir)\n",
    "\n",
    "# 각각 1000개씩 사진 데이터 이름이 있는 것을 확인할 수 있음\n",
    "print(len(train_cat_fname))\n",
    "print(len(train_dog_fname))"
   ]
  },
  {
   "cell_type": "code",
   "execution_count": 5,
   "metadata": {
    "colab": {
     "base_uri": "https://localhost:8080/",
     "height": 34
    },
    "colab_type": "code",
    "executionInfo": {
     "elapsed": 3008,
     "status": "ok",
     "timestamp": 1594013128150,
     "user": {
      "displayName": "한우",
      "photoUrl": "https://lh3.googleusercontent.com/a-/AOh14Gimf-DWmV0SRGPvFIqwBPav_FepPcd_a3224htKug=s64",
      "userId": "16749474188934901800"
     },
     "user_tz": -540
    },
    "id": "GKxZsOxCFVZR",
    "outputId": "bf3ece8b-6c9a-42eb-bec6-1d635998d360"
   },
   "outputs": [],
   "source": [
    "# 모델 구성을 위해 케라스의 레이어와 모델을 불러옴\n",
    "from tensorflow.keras import layers\n",
    "from tensorflow.keras import Model"
   ]
  },
  {
   "cell_type": "code",
   "execution_count": 9,
   "metadata": {
    "colab": {},
    "colab_type": "code",
    "executionInfo": {
     "elapsed": 965,
     "status": "ok",
     "timestamp": 1594023858035,
     "user": {
      "displayName": "한우",
      "photoUrl": "https://lh3.googleusercontent.com/a-/AOh14Gimf-DWmV0SRGPvFIqwBPav_FepPcd_a3224htKug=s64",
      "userId": "16749474188934901800"
     },
     "user_tz": -540
    },
    "id": "8oLN7WkSGlKo"
   },
   "outputs": [],
   "source": [
    "# 사용할 이미지의 가로세로 150픽셀이며, RGB 3가지를 위해 3개 속성을 냅둠\n",
    "img_input = layers.Input(shape=(100, 100, 3))\n",
    "\n",
    "# 내가 참고한 강의 자료에 따르면 Sequential 모델을 두고,\n",
    "# 거기에 add 해주는 방식이었는데 얘는 x 변수에 차곡차곡 쌓는 방식(같음)\n",
    "# 2D 형태로 만들어 주어 MaxPooling2D로 크기를 축소해 효율성 챙김\n",
    "x = layers.Conv2D(16, (3, 3), activation='relu')(img_input)\n",
    "x = layers.MaxPooling2D(2)(x)\n",
    "# x = layers.MaxPooling2D(pool_size=(2, 2))\n",
    "\n",
    "x = layers.Conv2D(32, (3, 3), activation='relu')(x)\n",
    "x = layers.MaxPooling2D(2)(x)\n",
    "\n",
    "x = layers.Conv2D(64, (3, 3), activation='relu')(x)\n",
    "x = layers.MaxPooling2D(2)(x)\n"
   ]
  },
  {
   "cell_type": "code",
   "execution_count": 10,
   "metadata": {
    "colab": {},
    "colab_type": "code",
    "executionInfo": {
     "elapsed": 856,
     "status": "ok",
     "timestamp": 1594023860704,
     "user": {
      "displayName": "한우",
      "photoUrl": "https://lh3.googleusercontent.com/a-/AOh14Gimf-DWmV0SRGPvFIqwBPav_FepPcd_a3224htKug=s64",
      "userId": "16749474188934901800"
     },
     "user_tz": -540
    },
    "id": "megbaTYTJgIB"
   },
   "outputs": [],
   "source": [
    "# Flattern을 통해 차원을 1차원으로 만듦\n",
    "x = layers.Flatten()(x)\n",
    "\n",
    "# 오버피팅이 일어나기 전까지 계속 돌림(?)\n",
    "x = layers.Dense(512, activation='relu')(x)\n",
    "\n",
    "# binary 분류의 최종 activation은 sigmoid임\n",
    "output = layers.Dense(1, activation='sigmoid')(x)\n",
    "\n",
    "# 강의와 다르게 여기서는 다 만들고 모델에 집어 넣음\n",
    "model = Model(img_input, output)"
   ]
  },
  {
   "cell_type": "code",
   "execution_count": 11,
   "metadata": {
    "colab": {
     "base_uri": "https://localhost:8080/",
     "height": 509
    },
    "colab_type": "code",
    "executionInfo": {
     "elapsed": 1077,
     "status": "ok",
     "timestamp": 1594023863761,
     "user": {
      "displayName": "한우",
      "photoUrl": "https://lh3.googleusercontent.com/a-/AOh14Gimf-DWmV0SRGPvFIqwBPav_FepPcd_a3224htKug=s64",
      "userId": "16749474188934901800"
     },
     "user_tz": -540
    },
    "id": "Iuc9MDfTKJmw",
    "outputId": "bb854b73-cb0f-4efd-d22f-aeeb2500f1c4"
   },
   "outputs": [
    {
     "name": "stdout",
     "output_type": "stream",
     "text": [
      "Model: \"model_1\"\n",
      "_________________________________________________________________\n",
      "Layer (type)                 Output Shape              Param #   \n",
      "=================================================================\n",
      "input_2 (InputLayer)         [(None, 100, 100, 3)]     0         \n",
      "_________________________________________________________________\n",
      "conv2d_3 (Conv2D)            (None, 98, 98, 16)        448       \n",
      "_________________________________________________________________\n",
      "max_pooling2d_3 (MaxPooling2 (None, 49, 49, 16)        0         \n",
      "_________________________________________________________________\n",
      "conv2d_4 (Conv2D)            (None, 47, 47, 32)        4640      \n",
      "_________________________________________________________________\n",
      "max_pooling2d_4 (MaxPooling2 (None, 23, 23, 32)        0         \n",
      "_________________________________________________________________\n",
      "conv2d_5 (Conv2D)            (None, 21, 21, 64)        18496     \n",
      "_________________________________________________________________\n",
      "max_pooling2d_5 (MaxPooling2 (None, 10, 10, 64)        0         \n",
      "_________________________________________________________________\n",
      "flatten_1 (Flatten)          (None, 6400)              0         \n",
      "_________________________________________________________________\n",
      "dense_2 (Dense)              (None, 512)               3277312   \n",
      "_________________________________________________________________\n",
      "dense_3 (Dense)              (None, 1)                 513       \n",
      "=================================================================\n",
      "Total params: 3,301,409\n",
      "Trainable params: 3,301,409\n",
      "Non-trainable params: 0\n",
      "_________________________________________________________________\n"
     ]
    }
   ],
   "source": [
    "# 지금까지 만든 모델 확인\n",
    "model.summary()"
   ]
  },
  {
   "cell_type": "code",
   "execution_count": 14,
   "metadata": {
    "colab": {},
    "colab_type": "code",
    "executionInfo": {
     "elapsed": 1443,
     "status": "ok",
     "timestamp": 1594023940591,
     "user": {
      "displayName": "한우",
      "photoUrl": "https://lh3.googleusercontent.com/a-/AOh14Gimf-DWmV0SRGPvFIqwBPav_FepPcd_a3224htKug=s64",
      "userId": "16749474188934901800"
     },
     "user_tz": -540
    },
    "id": "70Xtr75EKZhG"
   },
   "outputs": [],
   "source": [
    "from tensorflow.keras.optimizers import RMSprop\n",
    "\n",
    "# 학습률이 0.001인 RMSprop를 사용함\n",
    "# RMSprop는 학습 속도 조정을 자동화 하여 SGD보다 용이함\n",
    "# 강아지와 고양이 둘 중 가까운 곳을 고르면 되기 때문에 binary\n",
    "model.compile(loss='binary_crossentropy',\n",
    "              optimizer=RMSprop(lr=0.001),\n",
    "              metrics=['acc'])"
   ]
  },
  {
   "cell_type": "code",
   "execution_count": 15,
   "metadata": {
    "colab": {
     "base_uri": "https://localhost:8080/",
     "height": 52
    },
    "colab_type": "code",
    "executionInfo": {
     "elapsed": 2443,
     "status": "ok",
     "timestamp": 1594023944691,
     "user": {
      "displayName": "한우",
      "photoUrl": "https://lh3.googleusercontent.com/a-/AOh14Gimf-DWmV0SRGPvFIqwBPav_FepPcd_a3224htKug=s64",
      "userId": "16749474188934901800"
     },
     "user_tz": -540
    },
    "id": "a6fdp1n1meA8",
    "outputId": "6ac7bed8-abaf-470c-af74-2b601dd09cbd"
   },
   "outputs": [
    {
     "name": "stdout",
     "output_type": "stream",
     "text": [
      "Found 2000 images belonging to 2 classes.\n",
      "Found 1000 images belonging to 2 classes.\n"
     ]
    }
   ],
   "source": [
    "from tensorflow.keras.preprocessing.image import ImageDataGenerator\n",
    "\n",
    "# 이미지의 배율을 1/255로 함\n",
    "train_datagen = ImageDataGenerator(rescale=1/255)\n",
    "val_datagen = ImageDataGenerator(rescale=1/255)\n",
    "\n",
    "# batch_size를 20으로 하여 적당한 타이밍에 해답 확인(가중치 갱신)\n",
    "train_generator = train_datagen.flow_from_directory(\n",
    "    train_dir,\n",
    "    target_size=(100, 100),\n",
    "    batch_size=20,\n",
    "    class_mode='binary')\n",
    "\n",
    "validation_generator = val_datagen.flow_from_directory(\n",
    "    validation_dir,\n",
    "    target_size=(100, 100),\n",
    "    batch_size=20,\n",
    "    class_mode='binary')"
   ]
  },
  {
   "cell_type": "code",
   "execution_count": 16,
   "metadata": {
    "colab": {
     "base_uri": "https://localhost:8080/",
     "height": 544
    },
    "colab_type": "code",
    "executionInfo": {
     "elapsed": 853273,
     "status": "ok",
     "timestamp": 1594024799194,
     "user": {
      "displayName": "한우",
      "photoUrl": "https://lh3.googleusercontent.com/a-/AOh14Gimf-DWmV0SRGPvFIqwBPav_FepPcd_a3224htKug=s64",
      "userId": "16749474188934901800"
     },
     "user_tz": -540
    },
    "id": "DrcpuSIwsGdd",
    "outputId": "3f8cd4e6-1e3d-4536-d20c-0078c805c0ab"
   },
   "outputs": [
    {
     "name": "stdout",
     "output_type": "stream",
     "text": [
      "Epoch 1/15\n",
      "100/100 - 17s - loss: 0.6849 - acc: 0.5890 - val_loss: 0.6634 - val_acc: 0.6090\n",
      "Epoch 2/15\n",
      "100/100 - 6s - loss: 0.6203 - acc: 0.6680 - val_loss: 0.5947 - val_acc: 0.7000\n",
      "Epoch 3/15\n",
      "100/100 - 6s - loss: 0.5493 - acc: 0.7390 - val_loss: 0.5642 - val_acc: 0.7150\n",
      "Epoch 4/15\n",
      "100/100 - 6s - loss: 0.4855 - acc: 0.7720 - val_loss: 0.6403 - val_acc: 0.6790\n",
      "Epoch 5/15\n",
      "100/100 - 6s - loss: 0.4135 - acc: 0.8035 - val_loss: 0.7516 - val_acc: 0.6650\n",
      "Epoch 6/15\n",
      "100/100 - 7s - loss: 0.3436 - acc: 0.8405 - val_loss: 0.6596 - val_acc: 0.7080\n",
      "Epoch 7/15\n",
      "100/100 - 6s - loss: 0.2939 - acc: 0.8800 - val_loss: 1.0980 - val_acc: 0.6360\n",
      "Epoch 8/15\n",
      "100/100 - 7s - loss: 0.2271 - acc: 0.9085 - val_loss: 0.7867 - val_acc: 0.7040\n",
      "Epoch 9/15\n",
      "100/100 - 6s - loss: 0.1540 - acc: 0.9395 - val_loss: 0.8927 - val_acc: 0.7050\n",
      "Epoch 10/15\n",
      "100/100 - 6s - loss: 0.1320 - acc: 0.9515 - val_loss: 0.8503 - val_acc: 0.7170\n",
      "Epoch 11/15\n",
      "100/100 - 6s - loss: 0.0909 - acc: 0.9635 - val_loss: 1.0620 - val_acc: 0.7030\n",
      "Epoch 12/15\n",
      "100/100 - 6s - loss: 0.0654 - acc: 0.9745 - val_loss: 1.3443 - val_acc: 0.6810\n",
      "Epoch 13/15\n",
      "100/100 - 6s - loss: 0.0755 - acc: 0.9785 - val_loss: 1.5012 - val_acc: 0.6990\n",
      "Epoch 14/15\n",
      "100/100 - 6s - loss: 0.0416 - acc: 0.9880 - val_loss: 1.3942 - val_acc: 0.7090\n",
      "Epoch 15/15\n",
      "100/100 - 6s - loss: 0.0533 - acc: 0.9810 - val_loss: 1.4478 - val_acc: 0.6990\n"
     ]
    }
   ],
   "source": [
    "# 가공된 데이터를 모델에 대입해 트레이닝을 하는 과정\n",
    "# 15번 반복하여 학습할 것이며, 위에서 지정한 배치 사이즈를 100번 단위로 진행\n",
    "history = model.fit_generator(\n",
    "    train_generator,\n",
    "    steps_per_epoch=100,\n",
    "    epochs=15,\n",
    "    validation_data=validation_generator,\n",
    "    validation_steps=50,\n",
    "    verbose=2)"
   ]
  },
  {
   "cell_type": "code",
   "execution_count": 28,
   "metadata": {
    "colab": {
     "base_uri": "https://localhost:8080/",
     "height": 534
    },
    "colab_type": "code",
    "executionInfo": {
     "elapsed": 1078,
     "status": "ok",
     "timestamp": 1594024918201,
     "user": {
      "displayName": "한우",
      "photoUrl": "https://lh3.googleusercontent.com/a-/AOh14Gimf-DWmV0SRGPvFIqwBPav_FepPcd_a3224htKug=s64",
      "userId": "16749474188934901800"
     },
     "user_tz": -540
    },
    "id": "Um4-LCmRsxb0",
    "outputId": "8f6707ec-9bef-4edc-eb4d-4dc64e65dd71"
   },
   "outputs": [
    {
     "name": "stdout",
     "output_type": "stream",
     "text": [
      "99.9% 확률로 냥냥이\n"
     ]
    },
    {
     "data": {
      "image/jpeg": "[encoded data removed]",
      "text/plain": [
       "<IPython.core.display.Image object>"
      ]
     },
     "execution_count": 28,
     "metadata": {},
     "output_type": "execute_result"
    }
   ],
   "source": [
    "import numpy as np\n",
    "import random\n",
    "from tensorflow.keras.preprocessing.image import img_to_array, load_img\n",
    "import matplotlib.pyplot as plt\n",
    "from IPython.display import Image\n",
    "\n",
    "# 냥냥이와 댕댕이의 모든 사진의 이름을 리스트로 저장함\n",
    "cat_img_files = [os.path.join(train_cats_dir, f) for f in train_cat_fname]\n",
    "dog_img_files = [os.path.join(train_dogs_dir, f) for f in train_dog_fname]\n",
    "#img_path = \"/content/6.png\"\n",
    "img_path = random.choice(cat_img_files + dog_img_files)\n",
    "\n",
    "# 이미지 디렉토리에서 불러온 사진을 사이즈를 축소해 저장\n",
    "img = load_img(img_path, target_size=(100, 100))\n",
    "x = img_to_array(img)\n",
    "\n",
    "x = x.reshape((1,) + x.shape)\n",
    "x /= 255\n",
    "\n",
    "# y에 이미지에 대한 최종적인 내용을 넣어줌\n",
    "y = model.predict(x)[0][0]\n",
    "y = round(float(y), 3)\n",
    "\n",
    "# binary라 y가 높을수록 멍멍이, 낮을수록 냥냥이\n",
    "if y > 0.5:\n",
    "  print(str(y*100) + \"% 확률로 멍멍이\")\n",
    "else :\n",
    "  print(str((1-y) * 100) + \"% 확률로 냥냥이\")\n",
    "Image(filename=img_path)\n"
   ]
  },
  {
   "cell_type": "code",
   "execution_count": 29,
   "metadata": {
    "colab": {
     "base_uri": "https://localhost:8080/",
     "height": 537
    },
    "colab_type": "code",
    "executionInfo": {
     "elapsed": 2759,
     "status": "ok",
     "timestamp": 1594023459561,
     "user": {
      "displayName": "한우",
      "photoUrl": "https://lh3.googleusercontent.com/a-/AOh14Gimf-DWmV0SRGPvFIqwBPav_FepPcd_a3224htKug=s64",
      "userId": "16749474188934901800"
     },
     "user_tz": -540
    },
    "id": "kf1gh_KU4UrG",
    "outputId": "8d833018-9e88-4ccb-c28b-d5aae8b9fbd3"
   },
   "outputs": [
    {
     "ename": "NameError",
     "evalue": "name 'successive_feature_maps' is not defined",
     "output_type": "error",
     "traceback": [
      "\u001b[1;31m---------------------------------------------------------------------------\u001b[0m",
      "\u001b[1;31mNameError\u001b[0m                                 Traceback (most recent call last)",
      "\u001b[1;32m<ipython-input-29-ceb91951c993>\u001b[0m in \u001b[0;36m<module>\u001b[1;34m\u001b[0m\n\u001b[0;32m      7\u001b[0m \u001b[0mlayer_names\u001b[0m \u001b[1;33m=\u001b[0m \u001b[1;33m[\u001b[0m\u001b[0mlayer\u001b[0m\u001b[1;33m.\u001b[0m\u001b[0mname\u001b[0m \u001b[1;32mfor\u001b[0m \u001b[0mlayer\u001b[0m \u001b[1;32min\u001b[0m \u001b[0mmodel\u001b[0m\u001b[1;33m.\u001b[0m\u001b[0mlayers\u001b[0m\u001b[1;33m]\u001b[0m\u001b[1;33m\u001b[0m\u001b[1;33m\u001b[0m\u001b[0m\n\u001b[0;32m      8\u001b[0m \u001b[1;33m\u001b[0m\u001b[0m\n\u001b[1;32m----> 9\u001b[1;33m \u001b[1;32mfor\u001b[0m \u001b[0mlayer_name\u001b[0m\u001b[1;33m,\u001b[0m \u001b[0mfeature_map\u001b[0m \u001b[1;32min\u001b[0m \u001b[0mzip\u001b[0m\u001b[1;33m(\u001b[0m\u001b[0mlayer_names\u001b[0m\u001b[1;33m,\u001b[0m \u001b[0msuccessive_feature_maps\u001b[0m\u001b[1;33m)\u001b[0m\u001b[1;33m:\u001b[0m\u001b[1;33m\u001b[0m\u001b[1;33m\u001b[0m\u001b[0m\n\u001b[0m\u001b[0;32m     10\u001b[0m   \u001b[1;32mif\u001b[0m \u001b[0mlen\u001b[0m\u001b[1;33m(\u001b[0m\u001b[0mfeature_map\u001b[0m\u001b[1;33m.\u001b[0m\u001b[0mshape\u001b[0m\u001b[1;33m)\u001b[0m \u001b[1;33m==\u001b[0m \u001b[1;36m4\u001b[0m\u001b[1;33m:\u001b[0m\u001b[1;33m\u001b[0m\u001b[1;33m\u001b[0m\u001b[0m\n\u001b[0;32m     11\u001b[0m     \u001b[0mn_features\u001b[0m \u001b[1;33m=\u001b[0m \u001b[0mfeature_map\u001b[0m\u001b[1;33m.\u001b[0m\u001b[0mshape\u001b[0m\u001b[1;33m[\u001b[0m\u001b[1;33m-\u001b[0m\u001b[1;36m1\u001b[0m\u001b[1;33m]\u001b[0m\u001b[1;33m\u001b[0m\u001b[1;33m\u001b[0m\u001b[0m\n",
      "\u001b[1;31mNameError\u001b[0m: name 'successive_feature_maps' is not defined"
     ]
    }
   ],
   "source": [
    "# 이하 단계적인 이미지 특징 검출 과정을 plt로 나타낸 것\n",
    "successive_outputs = [layer.output for layer in model.layers[1:]]\n",
    "visualization_mode = Model(img_input, successive_outputs)\n",
    "\n",
    "SSsuccessive_feature_maps = visualization_mode.predict(x)\n",
    "\n",
    "layer_names = [layer.name for layer in model.layers]\n",
    "\n",
    "for layer_name, feature_map in zip(layer_names, successive_feature_maps):\n",
    "  if len(feature_map.shape) == 4:\n",
    "    n_features = feature_map.shape[-1]\n",
    "    size = feature_map.shape[1]\n",
    "    display_grid = np.zeros((size, size * n_features))\n",
    "    for i in range(n_features):\n",
    "      x = feature_map[0, :, :, i]\n",
    "      x -= x.mean()\n",
    "      x /= x.std()\n",
    "      x *= 64\n",
    "      x += 128\n",
    "      x = np.clip(x, 0, 255).astype('uint8')\n",
    "      display_grid[:, i * size : (i + 1) * size] = x\n",
    "    scale = 20. / n_features\n",
    "    plt.figure(figsize=(scale * n_features, scale))\n",
    "    plt.title(layer_name)\n",
    "    plt.grid(False)\n",
    "    plt.imshow(display_grid, aspect='auto', cmap='viridis')"
   ]
  },
  {
   "cell_type": "code",
   "execution_count": 150,
   "metadata": {
    "colab": {
     "base_uri": "https://localhost:8080/",
     "height": 562
    },
    "colab_type": "code",
    "executionInfo": {
     "elapsed": 1101,
     "status": "ok",
     "timestamp": 1594024833457,
     "user": {
      "displayName": "한우",
      "photoUrl": "https://lh3.googleusercontent.com/a-/AOh14Gimf-DWmV0SRGPvFIqwBPav_FepPcd_a3224htKug=s64",
      "userId": "16749474188934901800"
     },
     "user_tz": -540
    },
    "id": "FWkCK0sn_wrl",
    "outputId": "64b44a80-1f18-4a4f-ffd2-a25786215653"
   },
   "outputs": [
    {
     "data": {
      "text/plain": [
       "Text(0.5, 1.0, 'Training and validation loss')"
      ]
     },
     "execution_count": 150,
     "metadata": {
      "tags": []
     },
     "output_type": "execute_result"
    },
    {
     "data": {
      "image/png": "[encoded data removed]",
      "text/plain": [
       "<Figure size 432x288 with 1 Axes>"
      ]
     },
     "metadata": {
      "needs_background": "light",
      "tags": []
     },
     "output_type": "display_data"
    },
    {
     "data": {
      "image/png": "[encoded data removed]",
      "text/plain": [
       "<Figure size 432x288 with 1 Axes>"
      ]
     },
     "metadata": {
      "needs_background": "light",
      "tags": []
     },
     "output_type": "display_data"
    }
   ],
   "source": [
    "# history에 저장한 결과값들을 활용해 정확도와 loss 비율을 그래프로 나타냄\n",
    "acc = history.history['acc']\n",
    "val_acc = history.history['val_acc']\n",
    "\n",
    "loss = history.history['loss']\n",
    "val_loss = history.history['val_loss']\n",
    "\n",
    "epochs = range(len(acc))\n",
    "\n",
    "plt.plot(epochs, acc)\n",
    "plt.plot(epochs, val_acc)\n",
    "plt.title('Training and validation accuracy')\n",
    "\n",
    "plt.figure()\n",
    "\n",
    "plt.plot(epochs, loss)\n",
    "plt.plot(epochs, val_loss)\n",
    "plt.title('Training and validation loss')"
   ]
  },
  {
   "cell_type": "code",
   "execution_count": null,
   "metadata": {
    "colab": {},
    "colab_type": "code",
    "id": "m3typpfsCUwx"
   },
   "outputs": [],
   "source": []
  }
 ],
 "metadata": {
  "colab": {
   "authorship_tag": "ABX9TyNThgDrXkGR6Af8k3XF0O4a",
   "collapsed_sections": [],
   "name": "Keras_Cats_Dogs_classify.ipynb",
   "provenance": []
  },
  "kernelspec": {
   "display_name": "Python 3",
   "language": "python",
   "name": "python3"
  },
  "language_info": {
   "codemirror_mode": {
    "name": "ipython",
    "version": 3
   },
   "file_extension": ".py",
   "mimetype": "text/x-python",
   "name": "python",
   "nbconvert_exporter": "python",
   "pygments_lexer": "ipython3",
   "version": "3.7.4"
  }
 },
 "nbformat": 4,
 "nbformat_minor": 1
}
