{
 "cells": [
  {
   "cell_type": "code",
   "execution_count": 49,
   "metadata": {},
   "outputs": [],
   "source": [
    "# 단순 Circle 모양과 X 모양을 구분해내는 프로그램\n",
    "from keras.models import Sequential\n",
    "from keras.layers import Dense\n",
    "from keras.layers import Flatten\n",
    "from keras.layers.convolutional import Conv2D\n",
    "from keras.layers.convolutional import MaxPooling2D\n",
    "\n",
    "# 이미지를 감지하기 위한 클래스인 ImageDataGenerator\n",
    "from keras.preprocessing.image import ImageDataGenerator\n",
    "import numpy as np\n",
    "\n",
    "np.random.seed(2)"
   ]
  },
  {
   "cell_type": "code",
   "execution_count": 50,
   "metadata": {},
   "outputs": [
    {
     "name": "stdout",
     "output_type": "stream",
     "text": [
      "Found 40 images belonging to 2 classes.\n",
      "Found 20 images belonging to 2 classes.\n"
     ]
    }
   ],
   "source": [
    "train_datagen = ImageDataGenerator(rescale = 1/255)\n",
    "\n",
    "# 총 40개의 훈련셋이 들어있는 경로와 크기를 확인하고\n",
    "# 배치 사이즈는 4로 하여 총 5번 수행하면 한 epoch가 수행됨\n",
    "train_generator = train_datagen.flow_from_directory(\n",
    "                                'circle_X/train',\n",
    "                                target_size=(25, 25), \n",
    "                                batch_size = 2,\n",
    "                                class_mode = 'binary')\n",
    "\n",
    "test_datagen = ImageDataGenerator(rescale = 1/255)\n",
    "\n",
    "test_generator = test_datagen.flow_from_directory(\n",
    "                                'circle_X/test',\n",
    "                                target_size = (25, 25),\n",
    "                                batch_size = 2,\n",
    "                                class_mode = 'binary')"
   ]
  },
  {
   "cell_type": "code",
   "execution_count": 51,
   "metadata": {},
   "outputs": [],
   "source": [
    "model = Sequential()\n",
    "model.add(Conv2D(32, (3, 3), activation='relu', input_shape=(24, 24, 3)))\n",
    "model.add(Conv2D(64, (3, 3), activation='relu'))\n",
    "model.add(MaxPooling2D(2))\n",
    "model.add(Flatten())\n",
    "model.add(Dense(128, activation='relu'))\n",
    "model.add(Dense(1, activation='sigmoid'))"
   ]
  },
  {
   "cell_type": "code",
   "execution_count": 52,
   "metadata": {},
   "outputs": [
    {
     "name": "stdout",
     "output_type": "stream",
     "text": [
      "Model: \"sequential_12\"\n",
      "_________________________________________________________________\n",
      "Layer (type)                 Output Shape              Param #   \n",
      "=================================================================\n",
      "conv2d_22 (Conv2D)           (None, 22, 22, 32)        896       \n",
      "_________________________________________________________________\n",
      "conv2d_23 (Conv2D)           (None, 20, 20, 64)        18496     \n",
      "_________________________________________________________________\n",
      "max_pooling2d_10 (MaxPooling (None, 10, 10, 64)        0         \n",
      "_________________________________________________________________\n",
      "flatten_10 (Flatten)         (None, 6400)              0         \n",
      "_________________________________________________________________\n",
      "dense_20 (Dense)             (None, 128)               819328    \n",
      "_________________________________________________________________\n",
      "dense_21 (Dense)             (None, 1)                 129       \n",
      "=================================================================\n",
      "Total params: 838,849\n",
      "Trainable params: 838,849\n",
      "Non-trainable params: 0\n",
      "_________________________________________________________________\n"
     ]
    }
   ],
   "source": [
    "model.summary()"
   ]
  },
  {
   "cell_type": "code",
   "execution_count": 57,
   "metadata": {},
   "outputs": [],
   "source": [
    "model.compile(loss='binary_crossentropy', \n",
    "              optimizer='adam', \n",
    "              metrics=['accuracy'])"
   ]
  },
  {
   "cell_type": "code",
   "execution_count": 59,
   "metadata": {},
   "outputs": [
    {
     "name": "stdout",
     "output_type": "stream",
     "text": [
      "Epoch 1/30\n",
      "20/20 [==============================] - 0s 12ms/step - loss: 2.2464e-06 - accuracy: 1.0000 - val_loss: 1.8121 - val_accuracy: 0.6500\n",
      "Epoch 2/30\n",
      "20/20 [==============================] - 0s 13ms/step - loss: 2.0718e-06 - accuracy: 1.0000 - val_loss: 1.8116 - val_accuracy: 0.6500\n",
      "Epoch 3/30\n",
      "20/20 [==============================] - 0s 12ms/step - loss: 1.9133e-06 - accuracy: 1.0000 - val_loss: 1.8180 - val_accuracy: 0.6500\n",
      "Epoch 4/30\n",
      "20/20 [==============================] - 0s 12ms/step - loss: 1.7739e-06 - accuracy: 1.0000 - val_loss: 1.8351 - val_accuracy: 0.6500\n",
      "Epoch 5/30\n",
      "20/20 [==============================] - 0s 14ms/step - loss: 1.6611e-06 - accuracy: 1.0000 - val_loss: 1.8419 - val_accuracy: 0.6500\n",
      "Epoch 6/30\n",
      "20/20 [==============================] - 0s 15ms/step - loss: 1.5536e-06 - accuracy: 1.0000 - val_loss: 1.8360 - val_accuracy: 0.6500\n",
      "Epoch 7/30\n",
      "20/20 [==============================] - 0s 13ms/step - loss: 1.4367e-06 - accuracy: 1.0000 - val_loss: 1.8477 - val_accuracy: 0.6500\n",
      "Epoch 8/30\n",
      "20/20 [==============================] - 0s 13ms/step - loss: 1.3460e-06 - accuracy: 1.0000 - val_loss: 1.8474 - val_accuracy: 0.6500\n",
      "Epoch 9/30\n",
      "20/20 [==============================] - 0s 16ms/step - loss: 1.2601e-06 - accuracy: 1.0000 - val_loss: 1.8518 - val_accuracy: 0.6500\n",
      "Epoch 10/30\n",
      "20/20 [==============================] - 0s 14ms/step - loss: 1.1964e-06 - accuracy: 1.0000 - val_loss: 1.8525 - val_accuracy: 0.6500\n",
      "Epoch 11/30\n",
      "20/20 [==============================] - 0s 16ms/step - loss: 1.1191e-06 - accuracy: 1.0000 - val_loss: 1.8612 - val_accuracy: 0.6500\n",
      "Epoch 12/30\n",
      "20/20 [==============================] - 0s 14ms/step - loss: 1.0623e-06 - accuracy: 1.0000 - val_loss: 1.8631 - val_accuracy: 0.6500\n",
      "Epoch 13/30\n",
      "20/20 [==============================] - 0s 13ms/step - loss: 1.0081e-06 - accuracy: 1.0000 - val_loss: 1.8724 - val_accuracy: 0.6500\n",
      "Epoch 14/30\n",
      "20/20 [==============================] - 0s 16ms/step - loss: 9.5549e-07 - accuracy: 1.0000 - val_loss: 1.8802 - val_accuracy: 0.6500\n",
      "Epoch 15/30\n",
      "20/20 [==============================] - 0s 13ms/step - loss: 9.1331e-07 - accuracy: 1.0000 - val_loss: 1.8758 - val_accuracy: 0.6500\n",
      "Epoch 16/30\n",
      "20/20 [==============================] - 0s 14ms/step - loss: 8.6369e-07 - accuracy: 1.0000 - val_loss: 1.8869 - val_accuracy: 0.6500\n",
      "Epoch 17/30\n",
      "20/20 [==============================] - 0s 13ms/step - loss: 8.2416e-07 - accuracy: 1.0000 - val_loss: 1.8906 - val_accuracy: 0.6500\n",
      "Epoch 18/30\n",
      "20/20 [==============================] - 0s 13ms/step - loss: 7.8271e-07 - accuracy: 1.0000 - val_loss: 1.8887 - val_accuracy: 0.6500\n",
      "Epoch 19/30\n",
      "20/20 [==============================] - 0s 14ms/step - loss: 7.4847e-07 - accuracy: 1.0000 - val_loss: 1.8953 - val_accuracy: 0.6500\n",
      "Epoch 20/30\n",
      "20/20 [==============================] - 0s 13ms/step - loss: 7.1229e-07 - accuracy: 1.0000 - val_loss: 1.9028 - val_accuracy: 0.6500\n",
      "Epoch 21/30\n",
      "20/20 [==============================] - 0s 12ms/step - loss: 6.7899e-07 - accuracy: 1.0000 - val_loss: 1.9055 - val_accuracy: 0.6500\n",
      "Epoch 22/30\n",
      "20/20 [==============================] - 0s 17ms/step - loss: 6.4817e-07 - accuracy: 1.0000 - val_loss: 1.9049 - val_accuracy: 0.6500\n",
      "Epoch 23/30\n",
      "20/20 [==============================] - 0s 15ms/step - loss: 6.2076e-07 - accuracy: 1.0000 - val_loss: 1.9100 - val_accuracy: 0.6500\n",
      "Epoch 24/30\n",
      "20/20 [==============================] - 0s 12ms/step - loss: 5.9555e-07 - accuracy: 1.0000 - val_loss: 1.9158 - val_accuracy: 0.6500\n",
      "Epoch 25/30\n",
      "20/20 [==============================] - 0s 13ms/step - loss: 5.7363e-07 - accuracy: 1.0000 - val_loss: 1.9154 - val_accuracy: 0.6500\n",
      "Epoch 26/30\n",
      "20/20 [==============================] - 0s 14ms/step - loss: 5.4816e-07 - accuracy: 1.0000 - val_loss: 1.9190 - val_accuracy: 0.6500\n",
      "Epoch 27/30\n",
      "20/20 [==============================] - 0s 15ms/step - loss: 5.2985e-07 - accuracy: 1.0000 - val_loss: 1.9264 - val_accuracy: 0.6500\n",
      "Epoch 28/30\n",
      "20/20 [==============================] - 0s 16ms/step - loss: 5.0796e-07 - accuracy: 1.0000 - val_loss: 1.9309 - val_accuracy: 0.6500\n",
      "Epoch 29/30\n",
      "20/20 [==============================] - 0s 14ms/step - loss: 4.8767e-07 - accuracy: 1.0000 - val_loss: 1.9380 - val_accuracy: 0.6500\n",
      "Epoch 30/30\n",
      "20/20 [==============================] - 0s 16ms/step - loss: 4.7071e-07 - accuracy: 1.0000 - val_loss: 1.9358 - val_accuracy: 0.6500\n"
     ]
    }
   ],
   "source": [
    "history = model.fit_generator(\n",
    "        train_generator,\n",
    "        steps_per_epoch=20,\n",
    "        epochs=30,\n",
    "        validation_data=test_generator,\n",
    "        validation_steps=10)"
   ]
  },
  {
   "cell_type": "code",
   "execution_count": 99,
   "metadata": {},
   "outputs": [
    {
     "name": "stdout",
     "output_type": "stream",
     "text": [
      "79.10000000000001% 확률로 엑스\n"
     ]
    },
    {
     "data": {
      "image/png": "[encoded data removed]",
      "text/plain": [
       "<IPython.core.display.Image object>"
      ]
     },
     "execution_count": 99,
     "metadata": {},
     "output_type": "execute_result"
    }
   ],
   "source": [
    "from keras.preprocessing.image import load_img, img_to_array\n",
    "from IPython.display import Image\n",
    "\n",
    "img = load_img('1.png', target_size=(24, 24, 3))\n",
    "x = img_to_array(img)\n",
    "\n",
    "x = x.reshape((1,) + x.shape)\n",
    "x /= 255\n",
    "\n",
    "y = model.predict(x)[0][0]\n",
    "y = round(float(y), 3)\n",
    "\n",
    "if y > 0.5:\n",
    "    print(str(y*100) + \"% 확률로 원\")\n",
    "else:\n",
    "    print(str((1-y) * 100) + \"% 확률로 엑스\")\n",
    "Image(filename='1.png')"
   ]
  },
  {
   "cell_type": "code",
   "execution_count": null,
   "metadata": {},
   "outputs": [],
   "source": []
  },
  {
   "cell_type": "code",
   "execution_count": null,
   "metadata": {},
   "outputs": [],
   "source": []
  }
 ],
 "metadata": {
  "kernelspec": {
   "display_name": "Python 3",
   "language": "python",
   "name": "python3"
  },
  "language_info": {
   "codemirror_mode": {
    "name": "ipython",
    "version": 3
   },
   "file_extension": ".py",
   "mimetype": "text/x-python",
   "name": "python",
   "nbconvert_exporter": "python",
   "pygments_lexer": "ipython3",
   "version": "3.7.4"
  }
 },
 "nbformat": 4,
 "nbformat_minor": 2
}
